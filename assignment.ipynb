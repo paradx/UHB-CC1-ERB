{
 "cells": [
  {
   "cell_type": "markdown",
   "metadata": {},
   "source": [
    "# Assignment\n",
    "\n",
    "Due date: Dec 2, 2022 6p\n",
    "\n",
    "You may submit the assignment as individuals or in a group of up to four. Please ensure you are contributing equally. Questions 1, 2, and 4 can be typed up. Please submit both code and plots for Question 3 for full credit using one of the following:\n",
    "\n",
    "* .ipynb file or a .py file along with screenshots\n",
    "* Word Document or PDF with code/screenshots\n",
    "\n",
    "Email the instructor your answers (bekah@umd.edu) by the due date. Feel free to ask questions!\n",
    "\n",
    "IMPORTANT! If you are using binder, the code is not saved! The notebook will timeout after 10-15 mins of inactivity. Download/save your code after you have completed the assignment or if you want to step away.\n",
    "\n",
    "1. Overexposure to sunlight is [damaging to coral reefs](https://aambpublicoceanservice.blob.core.windows.net/oceanserviceprod/facts/coralbleaching-large.jpg). Which is more valuable for monitoring coral reefs, Reflected Shortwave Radiation (RSR), Downward Shortwave Radiation (DSR), or Outgoing Longwave Radiation (OLR)? Why? [10 pts]\n",
    "\n",
    "2. If you are interpreting an RSR image from GOES-16, do you expect the following conditions to cause lower or higher RSR values? Why? [35 pts]\n",
    "* The region is cloud-free\n",
    "* The underlying surface is a dense and dark rainforest\n",
    "* A significant amount of stratospheric ozone is present (hint ozone absorbs shortwave radiation)\n",
    "* The sun is directly overhead in a region\n",
    "* The local time is midnight in the western hemisphere\n",
    "* There is a thin layer of cirrus clouds covering the scene\n",
    "\n",
    "\n",
    "3. Using the template below as a guide, create a plot of Downward Shortwave Radiation __DSR__ ('ABI-L2-DSRF') on a Nov 22, 2022 at 18:00 UTC. Refer to the original tutorial to fill in the missing portions. [40 pts]\n",
    "\n",
    "4. Identify the high/low measurements of DSR in your plot and speculate what atmospheric features could be causing these values. [15 pts]\n"
   ]
  },
  {
   "cell_type": "code",
   "execution_count": null,
   "metadata": {},
   "outputs": [],
   "source": [
    "import numpy as np\n",
    "import matplotlib.pyplot as plt\n",
    "import xarray as xr\n",
    "import s3fs\n",
    "import cartopy.crs as ccrs"
   ]
  },
  {
   "cell_type": "markdown",
   "metadata": {},
   "source": []
  },
  {
   "cell_type": "code",
   "execution_count": null,
   "metadata": {},
   "outputs": [],
   "source": [
    "fs = s3fs.S3FileSystem(anon=True)"
   ]
  },
  {
   "cell_type": "code",
   "execution_count": null,
   "metadata": {},
   "outputs": [],
   "source": [
    "# \n",
    "bucket_name = 'noaa-goes16'\n",
    "product_name = '????'\n",
    "year = \n",
    "doy = \n",
    "hour = \n",
    "\n",
    "path = bucket_name + '/' + product_name + '/' + str(year) + '/' + str(doy).zfill(3) + '/' + str(hour).zfill(2) + '/'\n",
    "print(path)"
   ]
  },
  {
   "cell_type": "code",
   "execution_count": null,
   "metadata": {},
   "outputs": [],
   "source": [
    "# If this is empty, check the path above!\n",
    "files = fs.ls(path)\n",
    "print(files)"
   ]
  },
  {
   "cell_type": "code",
   "execution_count": null,
   "metadata": {},
   "outputs": [],
   "source": [
    "# Open adn then read the file\n",
    "# Note: you'll have to inspect the contents and find the DSR variable\n",
    "remote_obj = fs.open(files[0], mode='rb')\n",
    "abi_L2 = xr.open_dataset(remote_obj, engine='h5netcdf')"
   ]
  },
  {
   "cell_type": "code",
   "execution_count": null,
   "metadata": {},
   "outputs": [],
   "source": [
    "lat = ???\n",
    "lon = ???"
   ]
  },
  {
   "cell_type": "code",
   "execution_count": null,
   "metadata": {},
   "outputs": [],
   "source": [
    "# Project the 1D grid into 2D\n",
    "X, Y = np.meshgrid(lon, lat)"
   ]
  },
  {
   "cell_type": "code",
   "execution_count": null,
   "metadata": {},
   "outputs": [],
   "source": [
    "plt.figure(figsize=[8,8])\n",
    "\n",
    "ax = plt.subplot(projection=????)\n",
    "ax.coastlines()\n",
    "ax.set_global()\n",
    "\n",
    "ax.pcolormesh(????, ????,, ????, transform=????)\n",
    "\n",
    "plt.show()"
   ]
  }
 ],
 "metadata": {
  "kernelspec": {
   "display_name": "Python 3 (ipykernel)",
   "language": "python",
   "name": "python3"
  },
  "language_info": {
   "codemirror_mode": {
    "name": "ipython",
    "version": 3
   },
   "file_extension": ".py",
   "mimetype": "text/x-python",
   "name": "python",
   "nbconvert_exporter": "python",
   "pygments_lexer": "ipython3",
   "version": "3.11.9"
  },
  "vscode": {
   "interpreter": {
    "hash": "4589143d4cda0c8671911bd60c16dc1d10ec327722e7574bc882b745b51509b4"
   }
  }
 },
 "nbformat": 4,
 "nbformat_minor": 4
}
